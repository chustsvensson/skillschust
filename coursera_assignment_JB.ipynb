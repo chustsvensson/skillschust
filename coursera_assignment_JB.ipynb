{
 "cells": [
  {
   "cell_type": "markdown",
   "id": "6e77e69d",
   "metadata": {},
   "source": [
    "# My Jupyter Notebook on IBM Watson Studio"
   ]
  },
  {
   "cell_type": "markdown",
   "id": "9fe480f9",
   "metadata": {},
   "source": [
    "**Jesús**\n",
    "engineer"
   ]
  },
  {
   "cell_type": "markdown",
   "id": "1b51ba87",
   "metadata": {},
   "source": [
    "*I am interested in data science because it is a powerful tool to dive into Big Data*"
   ]
  },
  {
   "cell_type": "markdown",
   "id": "8aa15024",
   "metadata": {},
   "source": [
    "my first code is just an addition"
   ]
  },
  {
   "cell_type": "code",
   "execution_count": 3,
   "id": "872a79ec",
   "metadata": {},
   "outputs": [
    {
     "name": "stdout",
     "output_type": "stream",
     "text": [
      "2\n"
     ]
    }
   ],
   "source": [
    "print(1+1)"
   ]
  },
  {
   "cell_type": "markdown",
   "id": "c51eee92",
   "metadata": {},
   "source": [
    "[the best way to work with jupyter notebooks](https://www.anaconda.com/)\n",
    "\n",
    "* first\n",
    "* second\n",
    "* third\n",
    "\n",
    "_ _ _"
   ]
  }
 ],
 "metadata": {
  "kernelspec": {
   "display_name": "Python 3 (ipykernel)",
   "language": "python",
   "name": "python3"
  },
  "language_info": {
   "codemirror_mode": {
    "name": "ipython",
    "version": 3
   },
   "file_extension": ".py",
   "mimetype": "text/x-python",
   "name": "python",
   "nbconvert_exporter": "python",
   "pygments_lexer": "ipython3",
   "version": "3.9.13"
  }
 },
 "nbformat": 4,
 "nbformat_minor": 5
}
